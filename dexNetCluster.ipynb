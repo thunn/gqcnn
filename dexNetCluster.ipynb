{
 "cells": [
  {
   "cell_type": "markdown",
   "metadata": {},
   "source": [
    "Imports\n",
    "\n",
    "Code based on : https://berkeleyautomation.github.io/gqcnn/tutorials/tutorial.html#training"
   ]
  },
  {
   "cell_type": "code",
   "execution_count": 74,
   "metadata": {},
   "outputs": [],
   "source": [
    "#Import Required Modules\n",
    "from gqcnn import GQCNN, SGDOptimizer, GQCNNAnalyzer\n",
    "from autolab_core import YamlConfig\n",
    "import numpy as np"
   ]
  },
  {
   "cell_type": "code",
   "execution_count": 75,
   "metadata": {},
   "outputs": [],
   "source": [
    "#Retreive hyper paramaters from config file \n",
    "train_config = YamlConfig('./cluster_dex-net_2.0.yaml')\n",
    "gqcnn_config = train_config['gqcnn_config']\n",
    "model_dir = train_config['model_dir']\n",
    "data_dir = train_config['dataset_dir']"
   ]
  },
  {
   "cell_type": "markdown",
   "metadata": {},
   "source": [
    "Training"
   ]
  },
  {
   "cell_type": "code",
   "execution_count": 76,
   "metadata": {},
   "outputs": [],
   "source": [
    "#Training\n",
    "gqcnn = GQCNN(gqcnn_config)\n",
    "SGDOptimizer = SGDOptimizer(gqcnn, train_config)"
   ]
  },
  {
   "cell_type": "code",
   "execution_count": 82,
   "metadata": {},
   "outputs": [
    {
     "name": "stdout",
     "output_type": "stream",
     "text": [
      "Tensor(\"Softmax:0\", shape=(16, 2), dtype=float32)\n"
     ]
    }
   ],
   "source": [
    "gqcnn = GQCNN.load(model_dir)\n",
    "print(gqcnn._output_tensor)\n",
    "# with gqcnn.get_tf_graph().as_default():\n",
    "#      SGDOptimizer.optimize()"
   ]
  },
  {
   "cell_type": "markdown",
   "metadata": {},
   "source": [
    "Predict"
   ]
  },
  {
   "cell_type": "code",
   "execution_count": 56,
   "metadata": {},
   "outputs": [],
   "source": [
    "#Predict\n",
    "images = np.load('../datasets/adv_synth/depth_ims_tf_table_00001.npz')['arr_0']#['array of images']\n",
    "poses = np.load('../datasets/adv_synth/hand_poses_00001.npz')['arr_0']#['corresponding poses']\n",
    "\n",
    "#Select only the second column from poses and expand dims\n",
    "poses = np.expand_dims(poses[:,2], 1)\n",
    "\n",
    "gqcnn = GQCNN.load(model_dir)\n",
    "output = gqcnn.predict(images, poses)\n",
    "pred_p_success = output[:,1]\n",
    "# gqcnn.close_session()"
   ]
  },
  {
   "cell_type": "code",
   "execution_count": 64,
   "metadata": {},
   "outputs": [
    {
     "name": "stdout",
     "output_type": "stream",
     "text": [
      "(array([ 60, 159, 258, 357, 456, 555, 654, 753, 852, 951]),)\n"
     ]
    }
   ],
   "source": [
    "np.max(pred_p_success)"
   ]
  },
  {
   "cell_type": "code",
   "execution_count": 41,
   "metadata": {},
   "outputs": [
    {
     "name": "stderr",
     "output_type": "stream",
     "text": [
      "INFO:root:Setting up for analysis\n",
      "INFO:root:Running Predictions\n",
      "INFO:root:Analyzing model GQ-Adv\n",
      "INFO:root:Loading model GQ-Adv\n",
      "INFO:root:Reading file 1 of 190\n",
      "INFO:root:Reading file 2 of 190\n",
      "INFO:root:Reading file 3 of 190\n",
      "INFO:root:Reading file 4 of 190\n",
      "INFO:root:Reading file 5 of 190\n",
      "INFO:root:Reading file 6 of 190\n",
      "INFO:root:Reading file 7 of 190\n",
      "INFO:root:Reading file 8 of 190\n",
      "INFO:root:Reading file 9 of 190\n",
      "INFO:root:Reading file 10 of 190\n",
      "INFO:root:Reading file 11 of 190\n",
      "INFO:root:Reading file 12 of 190\n",
      "INFO:root:Reading file 13 of 190\n",
      "INFO:root:Reading file 14 of 190\n",
      "INFO:root:Reading file 15 of 190\n",
      "INFO:root:Reading file 16 of 190\n",
      "INFO:root:Reading file 17 of 190\n",
      "INFO:root:Reading file 18 of 190\n",
      "INFO:root:Reading file 19 of 190\n",
      "INFO:root:Reading file 20 of 190\n",
      "INFO:root:Reading file 21 of 190\n",
      "INFO:root:Reading file 22 of 190\n",
      "INFO:root:Reading file 23 of 190\n",
      "INFO:root:Reading file 24 of 190\n",
      "INFO:root:Reading file 25 of 190\n",
      "INFO:root:Reading file 26 of 190\n",
      "INFO:root:Reading file 27 of 190\n",
      "INFO:root:Reading file 28 of 190\n",
      "INFO:root:Reading file 29 of 190\n",
      "INFO:root:Reading file 30 of 190\n",
      "INFO:root:Reading file 31 of 190\n",
      "INFO:root:Reading file 32 of 190\n",
      "INFO:root:Reading file 33 of 190\n",
      "INFO:root:Reading file 34 of 190\n",
      "INFO:root:Reading file 35 of 190\n",
      "INFO:root:Reading file 36 of 190\n",
      "INFO:root:Reading file 37 of 190\n",
      "INFO:root:Reading file 38 of 190\n",
      "INFO:root:Reading file 39 of 190\n",
      "INFO:root:Reading file 40 of 190\n",
      "INFO:root:Reading file 41 of 190\n",
      "INFO:root:Reading file 42 of 190\n",
      "INFO:root:Reading file 43 of 190\n",
      "INFO:root:Reading file 44 of 190\n",
      "INFO:root:Reading file 45 of 190\n",
      "INFO:root:Reading file 46 of 190\n",
      "INFO:root:Reading file 47 of 190\n",
      "INFO:root:Reading file 48 of 190\n",
      "INFO:root:Reading file 49 of 190\n",
      "INFO:root:Reading file 50 of 190\n",
      "INFO:root:Reading file 51 of 190\n",
      "INFO:root:Reading file 52 of 190\n",
      "INFO:root:Reading file 53 of 190\n",
      "INFO:root:Reading file 54 of 190\n",
      "INFO:root:Reading file 55 of 190\n",
      "INFO:root:Reading file 56 of 190\n",
      "INFO:root:Reading file 57 of 190\n",
      "INFO:root:Reading file 58 of 190\n",
      "INFO:root:Reading file 59 of 190\n",
      "INFO:root:Reading file 60 of 190\n",
      "INFO:root:Reading file 61 of 190\n",
      "INFO:root:Reading file 62 of 190\n",
      "INFO:root:Reading file 63 of 190\n",
      "INFO:root:Reading file 64 of 190\n",
      "INFO:root:Reading file 65 of 190\n",
      "INFO:root:Reading file 66 of 190\n",
      "INFO:root:Reading file 67 of 190\n",
      "INFO:root:Reading file 68 of 190\n",
      "INFO:root:Reading file 69 of 190\n",
      "INFO:root:Reading file 70 of 190\n",
      "INFO:root:Reading file 71 of 190\n",
      "INFO:root:Reading file 72 of 190\n",
      "INFO:root:Reading file 73 of 190\n",
      "INFO:root:Reading file 74 of 190\n",
      "INFO:root:Reading file 75 of 190\n",
      "INFO:root:Reading file 76 of 190\n",
      "INFO:root:Reading file 77 of 190\n",
      "INFO:root:Reading file 78 of 190\n",
      "INFO:root:Reading file 79 of 190\n",
      "INFO:root:Reading file 80 of 190\n",
      "INFO:root:Reading file 81 of 190\n",
      "INFO:root:Reading file 82 of 190\n",
      "INFO:root:Reading file 83 of 190\n",
      "INFO:root:Reading file 84 of 190\n",
      "INFO:root:Reading file 85 of 190\n",
      "INFO:root:Reading file 86 of 190\n",
      "INFO:root:Reading file 87 of 190\n",
      "INFO:root:Reading file 88 of 190\n",
      "INFO:root:Reading file 89 of 190\n",
      "INFO:root:Reading file 90 of 190\n",
      "INFO:root:Reading file 91 of 190\n",
      "INFO:root:Reading file 92 of 190\n",
      "INFO:root:Reading file 93 of 190\n",
      "INFO:root:Reading file 94 of 190\n",
      "INFO:root:Reading file 95 of 190\n",
      "INFO:root:Reading file 96 of 190\n",
      "INFO:root:Reading file 97 of 190\n",
      "INFO:root:Reading file 98 of 190\n",
      "INFO:root:Reading file 99 of 190\n",
      "INFO:root:Reading file 100 of 190\n",
      "INFO:root:Reading file 101 of 190\n",
      "INFO:root:Reading file 102 of 190\n",
      "INFO:root:Reading file 103 of 190\n",
      "INFO:root:Reading file 104 of 190\n",
      "INFO:root:Reading file 105 of 190\n",
      "INFO:root:Reading file 106 of 190\n",
      "INFO:root:Reading file 107 of 190\n",
      "INFO:root:Reading file 108 of 190\n",
      "INFO:root:Reading file 109 of 190\n",
      "INFO:root:Reading file 110 of 190\n",
      "INFO:root:Reading file 111 of 190\n",
      "INFO:root:Reading file 112 of 190\n",
      "INFO:root:Reading file 113 of 190\n",
      "INFO:root:Reading file 114 of 190\n",
      "INFO:root:Reading file 115 of 190\n",
      "INFO:root:Reading file 116 of 190\n",
      "INFO:root:Reading file 117 of 190\n",
      "INFO:root:Reading file 118 of 190\n",
      "INFO:root:Reading file 119 of 190\n",
      "INFO:root:Reading file 120 of 190\n",
      "INFO:root:Reading file 121 of 190\n",
      "INFO:root:Reading file 122 of 190\n",
      "INFO:root:Reading file 123 of 190\n",
      "INFO:root:Reading file 124 of 190\n",
      "INFO:root:Reading file 125 of 190\n",
      "INFO:root:Reading file 126 of 190\n",
      "INFO:root:Reading file 127 of 190\n",
      "INFO:root:Reading file 128 of 190\n",
      "INFO:root:Reading file 129 of 190\n",
      "INFO:root:Reading file 130 of 190\n",
      "INFO:root:Reading file 131 of 190\n",
      "INFO:root:Reading file 132 of 190\n",
      "INFO:root:Reading file 133 of 190\n",
      "INFO:root:Reading file 134 of 190\n",
      "INFO:root:Reading file 135 of 190\n",
      "INFO:root:Reading file 136 of 190\n",
      "INFO:root:Reading file 137 of 190\n",
      "INFO:root:Reading file 138 of 190\n",
      "INFO:root:Reading file 139 of 190\n",
      "INFO:root:Reading file 140 of 190\n",
      "INFO:root:Reading file 141 of 190\n",
      "INFO:root:Reading file 142 of 190\n",
      "INFO:root:Reading file 143 of 190\n",
      "INFO:root:Reading file 144 of 190\n",
      "INFO:root:Reading file 145 of 190\n",
      "INFO:root:Reading file 146 of 190\n",
      "INFO:root:Reading file 147 of 190\n",
      "INFO:root:Reading file 148 of 190\n",
      "INFO:root:Reading file 149 of 190\n",
      "INFO:root:Reading file 150 of 190\n",
      "INFO:root:Reading file 151 of 190\n",
      "INFO:root:Reading file 152 of 190\n",
      "INFO:root:Reading file 153 of 190\n",
      "INFO:root:Reading file 154 of 190\n",
      "INFO:root:Reading file 155 of 190\n",
      "INFO:root:Reading file 156 of 190\n",
      "INFO:root:Reading file 157 of 190\n",
      "INFO:root:Reading file 158 of 190\n",
      "INFO:root:Reading file 159 of 190\n",
      "INFO:root:Reading file 160 of 190\n",
      "INFO:root:Reading file 161 of 190\n",
      "INFO:root:Reading file 162 of 190\n",
      "INFO:root:Reading file 163 of 190\n",
      "INFO:root:Reading file 164 of 190\n",
      "INFO:root:Reading file 165 of 190\n",
      "INFO:root:Reading file 166 of 190\n",
      "INFO:root:Reading file 167 of 190\n",
      "INFO:root:Reading file 168 of 190\n",
      "INFO:root:Reading file 169 of 190\n",
      "INFO:root:Reading file 170 of 190\n",
      "INFO:root:Reading file 171 of 190\n",
      "INFO:root:Reading file 172 of 190\n",
      "INFO:root:Reading file 173 of 190\n",
      "INFO:root:Reading file 174 of 190\n",
      "INFO:root:Reading file 175 of 190\n",
      "INFO:root:Reading file 176 of 190\n",
      "INFO:root:Reading file 177 of 190\n",
      "INFO:root:Reading file 178 of 190\n",
      "INFO:root:Reading file 179 of 190\n",
      "INFO:root:Reading file 180 of 190\n",
      "INFO:root:Reading file 181 of 190\n",
      "INFO:root:Reading file 182 of 190\n",
      "INFO:root:Reading file 183 of 190\n",
      "INFO:root:Reading file 184 of 190\n",
      "INFO:root:Reading file 185 of 190\n",
      "INFO:root:Reading file 186 of 190\n",
      "INFO:root:Reading file 187 of 190\n",
      "INFO:root:Reading file 188 of 190\n",
      "INFO:root:Reading file 189 of 190\n",
      "INFO:root:Reading file 190 of 190\n",
      "INFO:root:Total evaluation time: 668.558 sec\n",
      "INFO:root:Beginning Plotting\n",
      "INFO:root:Model GQ-Adv training error rate: 0.804\n",
      "INFO:root:Model GQ-Adv validation error rate: 1.355\n"
     ]
    },
    {
     "data": {
      "image/png": "[encoded data removed]",
      "text/plain": [
       "<matplotlib.figure.Figure at 0x7f66d03de290>"
      ]
     },
     "metadata": {},
     "output_type": "display_data"
    }
   ],
   "source": [
    "analysis_config = YamlConfig('cfg/tools/analyze_gqcnn_performance.yaml') # Sample config: 'cfg/tools/analyze_gqcnn_performance.yaml'\n",
    "analyzer = GQCNNAnalyzer(analysis_config)\n",
    "analyzer.analyze()"
   ]
  },
  {
   "cell_type": "markdown",
   "metadata": {},
   "source": [
    "Visualise"
   ]
  },
  {
   "cell_type": "code",
   "execution_count": null,
   "metadata": {},
   "outputs": [],
   "source": [
    "from autolab_core import YamlConfig\n",
    "from gqcnn import GQCNNPredictionVisualizer"
   ]
  },
  {
   "cell_type": "code",
   "execution_count": null,
   "metadata": {},
   "outputs": [],
   "source": [
    "visualization_config = YamlConfig('./cfg/tools/gqcnn_prediction_visualizer.yaml')"
   ]
  },
  {
   "cell_type": "code",
   "execution_count": null,
   "metadata": {},
   "outputs": [],
   "source": [
    "visualizer = GQCNNPredictionVisualizer(visualization_config)\n",
    "visualizer.visualize()"
   ]
  },
  {
   "cell_type": "code",
   "execution_count": null,
   "metadata": {},
   "outputs": [],
   "source": []
  }
 ],
 "metadata": {
  "kernelspec": {
   "display_name": "Python 2",
   "language": "python",
   "name": "python2"
  },
  "language_info": {
   "codemirror_mode": {
    "name": "ipython",
    "version": 2
   },
   "file_extension": ".py",
   "mimetype": "text/x-python",
   "name": "python",
   "nbconvert_exporter": "python",
   "pygments_lexer": "ipython2",
   "version": "2.7.14"
  }
 },
 "nbformat": 4,
 "nbformat_minor": 2
}
